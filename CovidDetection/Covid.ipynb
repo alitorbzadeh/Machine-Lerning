{
  "cells": [
    {
      "cell_type": "markdown",
      "metadata": {
        "id": "kzEcLxz-G9hV"
      },
      "source": [
        "### معرفی کتاب‌خانه‌های به‌کار رفته در برنامه"
      ]
    },
    {
      "cell_type": "code",
      "execution_count": 16,
      "metadata": {
        "id": "lDlIX9r1uvSb"
      },
      "outputs": [],
      "source": [
        "from string import *\n",
        "import pandas as pd\n",
        "import numpy as np\n",
        "import sklearn\n",
        "import random\n",
        "from string import *\n",
        "import csv\n",
        "import math\n",
        "import matplotlib.pyplot as plt\n",
        "from sklearn.preprocessing import LabelEncoder\n",
        "from sklearn.model_selection import train_test_split\n",
        "from sklearn.preprocessing import StandardScaler\n",
        "from sklearn.naive_bayes import GaussianNB\n",
        "from sklearn.neighbors import KNeighborsClassifier\n",
        "import statsmodels.api as sm\n",
        "import seaborn as sns\n",
        "from sklearn.cluster import KMeans\n",
        "from sklearn.tree import DecisionTreeClassifier"
      ]
    },
    {
      "cell_type": "markdown",
      "metadata": {
        "id": "xFXyFo-SHJfr"
      },
      "source": [
        "### فراخوانی فایل مثال های آموزشی"
      ]
    },
    {
      "cell_type": "code",
      "execution_count": 17,
      "metadata": {
        "id": "2EguORXgy5Zd"
      },
      "outputs": [],
      "source": [
        "data=pd.read_csv(\"covid1.csv\")"
      ]
    },
    {
      "cell_type": "markdown",
      "metadata": {
        "id": "QFpnamKfHRG9"
      },
      "source": [
        "### مرتب‌سازی"
      ]
    },
    {
      "cell_type": "code",
      "execution_count": 18,
      "metadata": {
        "id": "PM9Wp1jn_iOm"
      },
      "outputs": [],
      "source": [
        "data.drop('age',axis=1,inplace=True)\n",
        "data.drop('#',axis=1,inplace=True)\n",
        "data.isnull().sum()\n",
        "data[\"Headache\"].fillna(\"yes\",inplace=True)"
      ]
    },
    {
      "cell_type": "markdown",
      "metadata": {
        "id": "dA8LWeWoHiw9"
      },
      "source": [
        "###نرمال‌سازی"
      ]
    },
    {
      "cell_type": "code",
      "execution_count": 19,
      "metadata": {
        "id": "TGMMMWEDWRKG"
      },
      "outputs": [],
      "source": [
        "indexs=data.loc[:,\"Sleep_problems\"]\n",
        "indexs.loc[(data.Sleep_problems==\"yes\")|(data.Sleep_problems==\"Yes\")]=1\n",
        "indexs=data.loc[:,\"Sleep_problems\"]\n",
        "indexs.loc[(data.Sleep_problems==\"no\")|(data.Sleep_problems==\"No\")]=0\n",
        "\n",
        "indexs=data.loc[:,\"Headache\"]\n",
        "indexs.loc[(data.Headache==\"yes\")|(data.Headache==\"Yes\")]=1\n",
        "indexs=data.loc[:,\"Headache\"]\n",
        "indexs.loc[(data.Headache==\"no\")|(data.Headache==\"No\")]=0\n",
        "\n",
        "indexs=data.loc[:,\"Diarrhea\"]\n",
        "indexs.loc[(data.Diarrhea==\"yes\")|(data.Diarrhea==\"Yes\")]=1\n",
        "indexs=data.loc[:,\"Diarrhea\"]\n",
        "indexs.loc[(data.Diarrhea==\"no\")|(data.Diarrhea==\"No\")]=0\n",
        "\n",
        "indexs=data.loc[:,\"Abdominal_pain\"]\n",
        "indexs.loc[(data.Abdominal_pain==\"yes\")|(data.Abdominal_pain==\"Yes\")]=1\n",
        "indexs=data.loc[:,\"Abdominal_pain\"]\n",
        "indexs.loc[(data.Abdominal_pain==\"no\")|(data.Abdominal_pain==\"No\")]=0\n",
        "\n",
        "indexs=data.loc[:,\"body_pain\"]\n",
        "indexs.loc[(data.body_pain==\"yes\")|(data.body_pain==\"Yes\")]=1\n",
        "indexs=data.loc[:,\"body_pain\"]\n",
        "indexs.loc[(data.body_pain==\"no\")|(data.body_pain==\"No\")]=0\n",
        "\n",
        "indexs=data.loc[:,\"Body_discoloration\"]\n",
        "indexs.loc[(data.Body_discoloration==\"yes\")|(data.Body_discoloration==\"Yes\")]=1\n",
        "indexs=data.loc[:,\"Body_discoloration\"]\n",
        "indexs.loc[(data.Body_discoloration==\"no\")|(data.Body_discoloration==\"No\")]=0\n",
        "\n",
        "indexs=data.loc[:,\"Cough\"]\n",
        "indexs.loc[(data.Cough==\"yes\")|(data.Cough==\"Yes\")]=1\n",
        "indexs=data.loc[:,\"Cough\"]\n",
        "indexs.loc[(data.Cough==\"no\")|(data.Cough==\"No\")]=0\n",
        "\n",
        "indexs=data.loc[:,\"Fever\"]\n",
        "indexs.loc[(data.Fever==\"yes\")|(data.Fever==\"Yes\")]=1\n",
        "indexs=data.loc[:,\"Fever\"]\n",
        "indexs.loc[(data.Fever==\"no\")|(data.Fever==\"No\")]=0\n",
        "\n",
        "indexs=data.loc[:,\"Ague\"]\n",
        "indexs.loc[(data.Ague==\"yes\")|(data.Ague==\"Yes\")]=1\n",
        "indexs=data.loc[:,\"Ague\"]\n",
        "indexs.loc[(data.Ague==\"no\")|(data.Ague==\"No\")]=0\n",
        "\n",
        "indexs=data.loc[:,\"Sore_throat\"]\n",
        "indexs.loc[(data.Sore_throat==\"yes\")|(data.Sore_throat==\"Yes\")]=1\n",
        "indexs=data.loc[:,\"Sore_throat\"]\n",
        "indexs.loc[(data.Sore_throat==\"no\")|(data.Sore_throat==\"No\")]=0\n",
        "\n",
        "indexs=data.loc[:,\"Fatigue\"]\n",
        "indexs.loc[(data.Fatigue==\"yes\")|(data.Fatigue==\"Yes\")]=1\n",
        "indexs=data.loc[:,\"Fatigue\"]\n",
        "indexs.loc[(data.Fatigue==\"no\")|(data.Fatigue==\"No\")]=0\n",
        "\n",
        "\n",
        "indexs=data.loc[:,\"runny_nose\"]\n",
        "indexs.loc[(data.runny_nose==\"yes\")|(data.Sore_throat==\"Yes\")]=1\n",
        "indexs=data.loc[:,\"runny_nose\"]\n",
        "indexs.loc[(data.runny_nose==\"no\")|(data.Sore_throat==\"No\")]=0\n",
        "\n",
        "indexs=data.loc[:,\"Chest_pain\"]\n",
        "indexs.loc[(data.Chest_pain==\"yes\")|(data.Chest_pain==\"Yes\")]=1\n",
        "indexs=data.loc[:,\"Chest_pain\"]\n",
        "indexs.loc[(data.runny_nose==\"no\")|(data.Sore_throat==\"No\")]=0\n",
        "\n",
        "indexs=data.loc[:,\"Decreased_appetite\"]\n",
        "indexs.loc[(data.Decreased_appetite==\"yes\")|(data.Decreased_appetite==\"Yes\")]=1\n",
        "indexs=data.loc[:,\"Decreased_appetite\"]\n",
        "indexs.loc[(data.Decreased_appetite==\"no\")|(data.Decreased_appetite==\"No\")]=0\n",
        "\n",
        "indexs=data.loc[:,\"Vomit\"]\n",
        "indexs.loc[(data.Vomit==\"yes\")|(data.Vomit==\"Yes\")]=1\n",
        "indexs=data.loc[:,\"Vomit\"]\n",
        "indexs.loc[(data.Vomit==\"no\")|(data.Vomit==\"No\")]=0\n",
        "\n",
        "indexs=data.loc[:,\"Nausea\"]\n",
        "indexs.loc[(data.Nausea==\"yes\")|(data.Nausea==\"Yes\")]=1\n",
        "indexs=data.loc[:,\"Nausea\"]\n",
        "indexs.loc[(data.Nausea==\"no\")|(data.Nausea==\"No\")]=0\n",
        "\n",
        "indexs=data.loc[:,\"Sneezing\"]\n",
        "indexs.loc[(data.Sneezing==\"yes\")|(data.Sneezing==\"Yes\")]=1\n",
        "indexs=data.loc[:,\"Sneezing\"]\n",
        "indexs.loc[(data.Sneezing==\"no\")|(data.Sneezing==\"No\")]=0\n",
        "\n",
        "indexs=data.loc[:,\"Shortness_of_breath\"]\n",
        "indexs.loc[(data.Shortness_of_breath==\"yes\")|(data.Shortness_of_breath==\"Yes\")]=1\n",
        "indexs=data.loc[:,\"Shortness_of_breath\"]\n",
        "indexs.loc[(data.Shortness_of_breath==\"no\")|(data.Shortness_of_breath==\"No\")]=0\n",
        "\n",
        "indexs=data.loc[:,\"Loss_of_smell\"]\n",
        "indexs.loc[(data.Loss_of_smell==\"yes\")|(data.Loss_of_smell==\"Yes\")]=1\n",
        "indexs=data.loc[:,\"Loss_of_smell\"]\n",
        "indexs.loc[(data.Loss_of_smell==\"no\")|(data.Loss_of_smell==\"No\")]=0\n",
        "\n",
        "indexs=data.loc[:,\"Loss_of_taste\"]\n",
        "indexs.loc[(data.Loss_of_taste==\"yes\")|(data.Loss_of_taste==\"Yes\")]=1\n",
        "indexs=data.loc[:,\"Loss_of_taste\"]\n",
        "indexs.loc[(data.Loss_of_taste==\"no\")|(data.Loss_of_taste==\"No\")]=0\n",
        "\n",
        "indexs=data.loc[:,\"urticaria\"]\n",
        "indexs.loc[(data.urticaria==\"yes\")|(data.urticaria==\"Yes\")]=1\n",
        "indexs=data.loc[:,\"urticaria\"]\n",
        "indexs.loc[(data.urticaria==\"no\")|(data.urticaria==\"No\")]=0\n"
      ]
    },
    {
      "cell_type": "markdown",
      "metadata": {
        "id": "yzdKXwpDHqGT"
      },
      "source": [
        "### کلاس‌بندی داده‌ها و تولید داده‌های جدید برای کلاس دیگر"
      ]
    },
    {
      "cell_type": "code",
      "execution_count": 20,
      "metadata": {
        "id": "w4Db6gOqIwUs"
      },
      "outputs": [],
      "source": [
        "data['concept'] = 1\n",
        "def rand_key(p):\n",
        "\tkey1 = \"\"\n",
        "\tfor i in range(p):\n",
        "\t\ttemp = str(random.randint(0, 1))\n",
        "\t\tkey1 += temp\n",
        "\treturn(key1)\n",
        "\n",
        "k = 1\n",
        "n = 21\n",
        "file = open(\"data2.csv\", \"w\", newline=\"\")\n",
        "writer = csv.writer(file)\n",
        "writer.writerow( ['Sleep_problems', 'Headache', 'Diarrhea', 'Abdominal_pain', 'body_pain', 'Body_discoloration', 'Cough', 'Fever', 'Ague', 'Sore_throat', 'Fatigue', 'runny_nose', 'Chest_pain', 'Decreased_appetite', 'Vomit', 'Nausea', 'Sneezing', 'Shortness_of_breath', 'Loss_of_smell', 'Loss_of_taste', 'urticaria'] )\n",
        "while k<=1000:\n",
        "  str1 = rand_key(n)\n",
        "  a=list(str1)\n",
        "  writer.writerow( a )\n",
        "  k=k+1\n",
        "file.close()\n",
        "second_data=pd.read_csv(\"data2.csv\")\n",
        "second_data[\"concept\"]=0\n",
        "\n",
        "my_cancat=pd.concat([data,second_data],axis=0,ignore_index=True)\n",
        "my_cancat.drop_duplicates(inplace=True)"
      ]
    },
    {
      "cell_type": "markdown",
      "metadata": {
        "id": "HZuMou25H-w-"
      },
      "source": [
        "### محاسبه ویژگی‌های کم اهمیت"
      ]
    },
    {
      "cell_type": "code",
      "execution_count": null,
      "metadata": {
        "colab": {
          "base_uri": "https://localhost:8080/"
        },
        "id": "1HrQ0QFOV4f0",
        "outputId": "ebb7dec8-7463-4d90-fc46-8b93d1d1005a"
      },
      "outputs": [],
      "source": [
        "antropies={}\n",
        "a0=len(my_cancat.loc[my_cancat.Sleep_problems==1])\n",
        "at=len(my_cancat.loc[my_cancat.Sleep_problems])\n",
        "Pa1=a0/at\n",
        "Pa2=1-Pa1\n",
        "antropy=-(Pa1*math.log2(Pa1)+Pa2*math.log2(Pa2))\n",
        "ant=abs(antropy-1/2)\n",
        "antropies[\"Sleep_problems\"]=ant\n",
        "\n",
        "\n",
        "a0=len(my_cancat.loc[my_cancat.Headache==1])\n",
        "at=len(my_cancat.loc[my_cancat.Headache])\n",
        "Pa1=a0/at\n",
        "Pa2=1-Pa1\n",
        "antropy=-(Pa1*math.log2(Pa1)+Pa2*math.log2(Pa2))\n",
        "ant=abs(antropy-1/2)\n",
        "antropies[\"Headache\"]=ant\n",
        "\n",
        "\n",
        "a0=len(my_cancat.loc[my_cancat.Diarrhea==1])\n",
        "at=len(my_cancat.loc[my_cancat.Diarrhea])\n",
        "Pa1=a0/at\n",
        "Pa2=1-Pa1\n",
        "antropy=-(Pa1*math.log2(Pa1)+Pa2*math.log2(Pa2))\n",
        "ant=abs(antropy-1/2)\n",
        "antropies[\"Diarrhea\"]=ant\n",
        "\n",
        "\n",
        "a0=len(my_cancat.loc[my_cancat.Abdominal_pain==1])\n",
        "at=len(my_cancat.iloc[:,3])\n",
        "Pa1=a0/at\n",
        "Pa2=1-Pa1\n",
        "antropy=-(Pa1*math.log2(Pa1)+Pa2*math.log2(Pa2))\n",
        "ant=abs(antropy-1/2)\n",
        "antropies[\"Abdominal_pain\"]=ant\n",
        "\n",
        "\n",
        "a0=len(my_cancat.loc[my_cancat.body_pain==1])\n",
        "at=len(my_cancat.loc[my_cancat.body_pain])\n",
        "Pa1=a0/at\n",
        "Pa2=1-Pa1\n",
        "antropy=-(Pa1*math.log2(Pa1)+Pa2*math.log2(Pa2))\n",
        "ant=abs(antropy-1/2)\n",
        "antropies[\"body_pain\"]=ant\n",
        "\n",
        "\n",
        "a0=len(my_cancat.loc[my_cancat.Body_discoloration==1])\n",
        "at=len(my_cancat.loc[my_cancat.Body_discoloration])\n",
        "Pa1=a0/at\n",
        "Pa2=1-Pa1\n",
        "antropy=-(Pa1*math.log2(Pa1)+Pa2*math.log2(Pa2))\n",
        "ant=abs(antropy-1/2)\n",
        "antropies[\"Body_discoloration\"]=ant\n",
        "\n",
        "\n",
        "a0=len(my_cancat.loc[my_cancat.Cough==1])\n",
        "at=len(my_cancat.loc[my_cancat.Cough])\n",
        "Pa1=a0/at\n",
        "Pa2=1-Pa1\n",
        "antropy=-(Pa1*math.log2(Pa1)+Pa2*math.log2(Pa2))\n",
        "ant=abs(antropy-1/2)\n",
        "antropies[\"Cough\"]=ant\n",
        "\n",
        "\n",
        "a0=len(my_cancat.loc[my_cancat.Fever==1])\n",
        "at=len(my_cancat.loc[my_cancat.Fever])\n",
        "Pa1=a0/at\n",
        "Pa2=1-Pa1\n",
        "antropy=-(Pa1*math.log2(Pa1)+Pa2*math.log2(Pa2))\n",
        "ant=abs(antropy-1/2)\n",
        "antropies[\"Fever\"]=ant\n",
        "\n",
        "\n",
        "a0=len(my_cancat.loc[my_cancat.Ague==1])\n",
        "at=len(my_cancat.loc[my_cancat.Ague])\n",
        "Pa1=a0/at\n",
        "Pa2=1-Pa1\n",
        "antropy=-(Pa1*math.log2(Pa1)+Pa2*math.log2(Pa2))\n",
        "ant=abs(antropy-1/2)\n",
        "antropies[\"Ague\"]=ant\n",
        "\n",
        "\n",
        "a0=len(my_cancat.loc[my_cancat.Sore_throat==1])\n",
        "at=len(my_cancat.loc[my_cancat.Sore_throat])\n",
        "Pa1=a0/at\n",
        "Pa2=1-Pa1\n",
        "antropy=-(Pa1*math.log2(Pa1)+Pa2*math.log2(Pa2))\n",
        "ant=abs(antropy-1/2)\n",
        "antropies[\"Sore_throat\"]=ant\n",
        "\n",
        "\n",
        "a0=len(my_cancat.loc[my_cancat.Fatigue==1])\n",
        "at=len(my_cancat.loc[my_cancat.Fatigue])\n",
        "Pa1=a0/at\n",
        "Pa2=1-Pa1\n",
        "antropy=-(Pa1*math.log2(Pa1)+Pa2*math.log2(Pa2))\n",
        "ant=abs(antropy-1/2)\n",
        "antropies[\"Fatigue\"]=ant\n",
        "\n",
        "\n",
        "a0=len(my_cancat.loc[my_cancat.runny_nose==1])\n",
        "at=len(my_cancat.loc[my_cancat.runny_nose])\n",
        "Pa1=a0/at\n",
        "Pa2=1-Pa1\n",
        "antropy=-(Pa1*math.log2(Pa1)+Pa2*math.log2(Pa2))\n",
        "ant=abs(antropy-1/2)\n",
        "antropies[\"runny_nose\"]=ant\n",
        "\n",
        "\n",
        "a0=len(my_cancat.loc[my_cancat.Chest_pain==1])\n",
        "at=len(my_cancat.iloc[:,12])\n",
        "Pa1=a0/at\n",
        "Pa2=1-Pa1\n",
        "antropy=-(Pa1*math.log2(Pa1)+Pa2*math.log2(Pa2))\n",
        "ant=abs(antropy-1/2)\n",
        "antropies[\"Chest_pain\"]=ant\n",
        "\n",
        "\n",
        "a0=len(my_cancat.loc[my_cancat.Decreased_appetite==1])\n",
        "at=len(my_cancat.loc[my_cancat.Decreased_appetite])\n",
        "Pa1=a0/at\n",
        "Pa2=1-Pa1\n",
        "antropy=-(Pa1*math.log2(Pa1)+Pa2*math.log2(Pa2))\n",
        "ant=abs(antropy-1/2)\n",
        "antropies[\"Decreased_appetite\"]=ant\n",
        "\n",
        "\n",
        "a0=len(my_cancat.loc[my_cancat.Vomit==1])\n",
        "at=len(my_cancat.loc[my_cancat.Vomit])\n",
        "Pa1=a0/at\n",
        "Pa2=1-Pa1\n",
        "antropy=-(Pa1*math.log2(Pa1)+Pa2*math.log2(Pa2))\n",
        "ant=abs(antropy-1/2)\n",
        "antropies[\"Vomit\"]=ant\n",
        "\n",
        "\n",
        "a0=len(my_cancat.loc[my_cancat.Nausea==1])\n",
        "at=len(my_cancat.loc[my_cancat.Nausea])\n",
        "Pa1=a0/at\n",
        "Pa2=1-Pa1\n",
        "antropy=-(Pa1*math.log2(Pa1)+Pa2*math.log2(Pa2))\n",
        "ant=abs(antropy-1/2)\n",
        "antropies[\"Nausea\"]=ant\n",
        "\n",
        "\n",
        "a0=len(my_cancat.loc[my_cancat.Sneezing==1])\n",
        "at=len(my_cancat.loc[my_cancat.Sneezing])\n",
        "Pa1=a0/at\n",
        "Pa2=1-Pa1\n",
        "antropy=-(Pa1*math.log2(Pa1)+Pa2*math.log2(Pa2))\n",
        "ant=abs(antropy-1/2)\n",
        "antropies[\"Sneezing\"]=ant\n",
        "\n",
        "\n",
        "a0=len(my_cancat.loc[my_cancat.Shortness_of_breath==1])\n",
        "at=len(my_cancat.loc[my_cancat.Shortness_of_breath])\n",
        "Pa1=a0/at\n",
        "Pa2=1-Pa1\n",
        "antropy=-(Pa1*math.log2(Pa1)+Pa2*math.log2(Pa2))\n",
        "ant=abs(antropy-1/2)\n",
        "antropies[\"Shortness_of_breath\"]=ant\n",
        "\n",
        "\n",
        "a0=len(my_cancat.loc[my_cancat.Loss_of_smell==1])\n",
        "at=len(my_cancat.loc[my_cancat.Loss_of_smell])\n",
        "Pa1=a0/at\n",
        "Pa2=1-Pa1\n",
        "antropy=-(Pa1*math.log2(Pa1)+Pa2*math.log2(Pa2))\n",
        "ant=abs(antropy-1/2)\n",
        "antropies[\"Loss_of_smell\"]=ant\n",
        "\n",
        "\n",
        "a0=len(my_cancat.loc[my_cancat.Loss_of_taste==1])\n",
        "at=len(my_cancat.loc[my_cancat.Loss_of_taste])\n",
        "Pa1=a0/at\n",
        "Pa2=1-Pa1\n",
        "antropy=-(Pa1*math.log2(Pa1)+Pa2*math.log2(Pa2))\n",
        "ant=abs(antropy-1/2)\n",
        "antropies[\"Loss_of_taste\"]=ant\n",
        "\n",
        "\n",
        "a0=len(my_cancat.loc[my_cancat.urticaria==1])\n",
        "at=len(my_cancat.loc[my_cancat.urticaria])\n",
        "Pa1=a0/at\n",
        "Pa2=1-Pa1\n",
        "antropy=-(Pa1*math.log2(Pa1)+Pa2*math.log2(Pa2))\n",
        "ant=abs(antropy-1/2)\n",
        "antropies[\"urticaria\"]=ant\n",
        "\n",
        "antropies"
      ]
    },
    {
      "cell_type": "markdown",
      "metadata": {
        "id": "SA1mTPvXIGIr"
      },
      "source": [
        "### Find s "
      ]
    },
    {
      "cell_type": "code",
      "execution_count": null,
      "metadata": {
        "colab": {
          "base_uri": "https://localhost:8080/"
        },
        "id": "n6NucgqIpQ4s",
        "outputId": "0152d3de-a5df-47cb-beef-1bb7a26a86ce"
      },
      "outputs": [],
      "source": [
        "specific_hypothesis=[]\n",
        "d = np.array(my_cancat)[:,:-1]\n",
        "print(\"n The attributes are: \",d)\n",
        "target = np.array(my_cancat)[:,-1]\n",
        "print(\"n The target is: \",target)\n",
        "def train(c,t):\n",
        "  global specific_hypothesis\n",
        "  for i, val in enumerate(t):\n",
        "      if val == 0:\n",
        "          specific_hypothesis = c[i].copy()\n",
        "          break\n",
        "             \n",
        "  for i, val in enumerate(c):\n",
        "      if t[i] == 1:\n",
        "          for x in range(len(specific_hypothesis)):\n",
        "              if val[x] != specific_hypothesis[x]:\n",
        "                  specific_hypothesis[x] = '?'\n",
        "              else:\n",
        "                  pass\n",
        "                 \n",
        "  return specific_hypothesis\n",
        "print(\"n The final hypothesis is:\",train(d,target))"
      ]
    },
    {
      "cell_type": "markdown",
      "metadata": {
        "id": "OKBJfk75ILAc"
      },
      "source": [
        "### Candidate elinination"
      ]
    },
    {
      "cell_type": "code",
      "execution_count": null,
      "metadata": {
        "colab": {
          "base_uri": "https://localhost:8080/"
        },
        "id": "xXEmRm18t71K",
        "outputId": "8f990ca3-73cb-4179-dfa0-7c90edd777a1"
      },
      "outputs": [],
      "source": [
        "ins = np.array(my_cancat.iloc[:,0:-1])\n",
        "print(\"\\nInstances are:\\n\",ins)\n",
        "target = np.array(my_cancat.iloc[:,-1])\n",
        "print(\"\\nTarget Values are: \",target)\n",
        "\n",
        "def learn(ins, target): \n",
        "    specific_h = ins[0].copy()\n",
        "    print(\"\\nInitialization of specific_h and genearal_h\")\n",
        "    print(\"\\nSpecific Boundary: \", specific_h)\n",
        "    general_h = [[\"?\" for i in range(len(specific_h))] for i in range(len(specific_h))]\n",
        "    print(\"\\nGeneric Boundary: \",general_h)  \n",
        "\n",
        "    for i, h in enumerate(ins):\n",
        "        print(\"\\nInstance\", i+1 , \"is \", h)\n",
        "        if target[i] == \"1\":\n",
        "            print(\"Instance is Positive \")\n",
        "            for x in range(len(specific_h)): \n",
        "                if h[x]!= specific_h[x]:                    \n",
        "                    specific_h[x] ='?'                     \n",
        "                    general_h[x][x] ='?'\n",
        "                   \n",
        "        if target[i] == \"0\":            \n",
        "            print(\"Instance is Negative \")\n",
        "            for x in range(len(specific_h)): \n",
        "                if h[x]!= specific_h[x]:                    \n",
        "                    general_h[x][x] = specific_h[x]                \n",
        "                else:                    \n",
        "                    general_h[x][x] = '?'        \n",
        "        \n",
        "        print(\"Specific Bundary after \", i+1, \"Instance is \", specific_h)         \n",
        "        print(\"Generic Boundary after \", i+1, \"Instance is \", general_h)\n",
        "        print(\"\\n\")\n",
        "\n",
        "    indices = [i for i, val in enumerate(general_h) if val == ['?', '?', '?', '?', '?', '?']]    \n",
        "    for i in indices:   \n",
        "        general_h.remove(['?', '?', '?', '?', '?', '?']) \n",
        "    return specific_h, general_h \n",
        "\n",
        "s_final, g_final = learn(ins, target)\n",
        "\n",
        "print(\"Final Specific_h: \", s_final, sep=\"\\n\")\n",
        "print(\"Final General_h: \", g_final, sep=\"\\n\")"
      ]
    },
    {
      "cell_type": "markdown",
      "metadata": {
        "id": "rU3MjX3xIQdr"
      },
      "source": [
        "### Naive Bayse"
      ]
    },
    {
      "cell_type": "code",
      "execution_count": null,
      "metadata": {
        "colab": {
          "base_uri": "https://localhost:8080/"
        },
        "id": "Cf4zEog0u258",
        "outputId": "c03bac00-87e3-447d-a1d9-8e6438bf1461"
      },
      "outputs": [],
      "source": [
        "my_cancat.replace(\"es\",1,inplace=True)\n",
        "my_cancat.replace(\"no\",0,inplace=True)\n",
        "X = my_cancat.iloc[:, :].values\n",
        "y = my_cancat.iloc[:, -1].values\n",
        "le = LabelEncoder()\n",
        "X[:,0] = le.fit_transform(X[:,0])\n",
        "X_train, X_test, y_train, y_test = train_test_split(X, y, test_size = 0.20, random_state = 0)\n",
        "sc = StandardScaler()\n",
        "X_train = sc.fit_transform(X_train)\n",
        "X_test = sc.transform(X_test)\n",
        "classifier = GaussianNB()\n",
        "classifier.fit(X_train, y_train)\n",
        "y_pred = classifier.predict(X_test)\n",
        "y_pred"
      ]
    },
    {
      "cell_type": "markdown",
      "metadata": {
        "id": "lUYzqv47IlAt"
      },
      "source": [
        "### decision tree"
      ]
    },
    {
      "cell_type": "code",
      "execution_count": null,
      "metadata": {
        "colab": {
          "base_uri": "https://localhost:8080/"
        },
        "id": "dWCeDHqdBrAo",
        "outputId": "eae28182-4923-4670-ff95-66a0938087b8"
      },
      "outputs": [],
      "source": [
        "def splitdataset(my_cancat):\n",
        "\tX = my_cancat.values[:, :-1]\n",
        "\tY = my_cancat.values[:,-1]\n",
        "\tX_train, X_test, y_train, y_test = train_test_split(\n",
        "\tX, Y, test_size = 0.3, random_state = 100)\n",
        "\treturn X, Y, X_train, X_test, y_train, y_test\n",
        "\n",
        "def train_using_gini(X_train, X_test, y_train):\n",
        "\tclf_gini = DecisionTreeClassifier(criterion = \"gini\",\n",
        "\t\t\trandom_state = 100,max_depth=3, min_samples_leaf=5)\n",
        "\tclf_gini.fit(X_train, y_train)\n",
        "\treturn clf_gini\n",
        "\t\n",
        "def tarin_using_entropy(X_train, X_test, y_train):\n",
        "\tclf_entropy = DecisionTreeClassifier(\n",
        "\t\t\tcriterion = \"entropy\", random_state = 100,\n",
        "\t\t\tmax_depth = 3, min_samples_leaf = 5)\n",
        "\tclf_entropy.fit(X_train, y_train)\n",
        "\treturn clf_entropy\n",
        "def prediction(X_test, clf_object):\n",
        "  y_pred = clf_object.predict(X_test)\n",
        "  print(\"Predicted values:\")\n",
        "  print(y_pred)\n",
        "  return y_pred\n",
        "def main():\n",
        "\tX, Y, X_train, X_test, y_train, y_test = splitdataset(my_cancat)\n",
        "\tclf_gini = train_using_gini(X_train, X_test, y_train)\n",
        "\tclf_entropy = tarin_using_entropy(X_train, X_test, y_train)\n",
        "\tprint(\"Results Using Entropy:\")\n",
        "\ty_pred_entropy = prediction(X_test, clf_entropy)\n",
        "\n",
        "\t\n",
        "if __name__==\"__main__\":\n",
        "\tmain()"
      ]
    }
  ],
  "metadata": {
    "colab": {
      "collapsed_sections": [],
      "name": "final.ipynb",
      "provenance": []
    },
    "kernelspec": {
      "display_name": "Python 3",
      "name": "python3"
    },
    "language_info": {
      "name": "python"
    }
  },
  "nbformat": 4,
  "nbformat_minor": 0
}
